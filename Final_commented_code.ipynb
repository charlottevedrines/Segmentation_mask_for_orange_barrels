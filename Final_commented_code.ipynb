{
 "cells": [
  {
   "cell_type": "code",
   "execution_count": 11,
   "id": "5a0970e1",
   "metadata": {},
   "outputs": [],
   "source": [
    "import cv2\n",
    "import numpy as np\n",
    "import os"
   ]
  },
  {
   "cell_type": "code",
   "execution_count": 12,
   "id": "67d9b0c7",
   "metadata": {},
   "outputs": [],
   "source": [
    "#To iterate through all the images in the input file, I defined the path where the input \n",
    "# images are located and and used the os.scandir() function to iterate through the images \n",
    "\n",
    "path = '/Users/charlottevedrines/Documents/Coding_assignment_selfdriving/input'\n",
    "file_list = os.scandir(path)"
   ]
  },
  {
   "cell_type": "code",
   "execution_count": 13,
   "id": "376c3815",
   "metadata": {},
   "outputs": [],
   "source": [
    "#For loop iterates through every image\n",
    "for file in file_list:\n",
    "    \n",
    "    #check if the input is a regular file \n",
    "    if file.is_file():\n",
    "  \n",
    "        #define the path to every file to read in the image\n",
    "        path = 'input/' + file.name\n",
    "        image = cv2.imread(path)\n",
    "        \n",
    "        #A copy of the original image is made to modify it \n",
    "        result = image.copy()\n",
    "        \n",
    "        #Image transformed to HSV colorspace.\n",
    "        image = cv2.cvtColor(image, cv2.COLOR_BGR2HSV)\n",
    "        \n",
    "        #Define the range of color to detect the barrel: H:165-180, S:100-255, V:20-255\n",
    "        mask = cv2.inRange(image,(165, 100, 20), (180, 255, 255) )\n",
    "        \n",
    "        # saving each output to the output folder with their original names\n",
    "        cv2.imwrite('output/' + file.name , mask) "
   ]
  },
  {
   "cell_type": "code",
   "execution_count": null,
   "id": "1db01996",
   "metadata": {},
   "outputs": [],
   "source": []
  }
 ],
 "metadata": {
  "kernelspec": {
   "display_name": "Python 3 (ipykernel)",
   "language": "python",
   "name": "python3"
  },
  "language_info": {
   "codemirror_mode": {
    "name": "ipython",
    "version": 3
   },
   "file_extension": ".py",
   "mimetype": "text/x-python",
   "name": "python",
   "nbconvert_exporter": "python",
   "pygments_lexer": "ipython3",
   "version": "3.9.7"
  }
 },
 "nbformat": 4,
 "nbformat_minor": 5
}
